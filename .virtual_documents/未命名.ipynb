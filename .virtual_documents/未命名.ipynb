import cufflinks as cf
import numpy as np
import pandas as pd

cf.set_config_file(offline=True)


cf.datagen.lines(1, 500).ta_plot(study="sma", periods=[13, 21, 55])


from openpyxl import load_workbook


wb = load_workbook("1.xlsx")
sheets = wb.worksheets
sheet_point_list = sheets[0]
sheet_distance = sheets[1]
targetCamp = 'red'
enemyCamp = 'blue'


pointListAll = np.array(list(sheet_point_list.values)[1:])

pointMap = {}
for row in np.around(np.array(pointListAll[:, [0, 1, 2]], float), 2):
    pointMap[int(row[0])] = row

pointList = pointListAll[pointListAll[:, 3] == targetCamp]
pointList = pointList[:, [0, 1, 2]]
pointList = np.around(np.array(pointList, float), 2)

pointEnemyList = pointListAll[pointListAll[:, 3] == enemyCamp]
pointEnemyList = pointEnemyList[:, [0, 1, 2]]
pointEnemyList = np.around(np.array(pointEnemyList, float), 2)


df2 = pd.DataFrame(pointList, columns=["index", "X", "Y"])
df2


df2.iplot(
    kind="scatter", mode="markers", x="X", y="Y", size=5, text="index", title="red camp"
)


import matplotlib.pyplot as plt


plt.close()

plt.figure(dpi=1000, figsize=(15, 8))
plt.title(f"Map", fontsize=24)
plt.axis([70, 100, 0, 30])
plt.xlabel("X", fontsize=20)
plt.ylabel("Y", fontsize=14)
plt.scatter(pointList[:, 1], pointList[:, 2], color="r", s=0.1)
plt.scatter(pointEnemyList[:, 1], pointEnemyList[:, 2], color="b", s=0.1)
for row in pointList:
    plt.text(row[1], row[2], int(row[0]), fontsize=1)
for row in pointEnemyList:
    plt.text(row[1], row[2], int(row[0]), fontsize=1)

# plt.plot(pointList[:, 1], pointList[:, 2], color="b",linewidth=0.1)
for row in list(sheet_distance.values)[1:]:
    fromId = int(row[1])
    toId = int(row[2])
    x = [pointMap[fromId][1], pointMap[toId][1]]
    y = [pointMap[fromId][2], pointMap[toId][2]]
    plt.plot(x, y, color='g', linewidth=0.1)
plt.savefig('./img.png')
plt.show()



