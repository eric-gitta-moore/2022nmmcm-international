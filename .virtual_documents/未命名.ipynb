import cufflinks as cf
import numpy as np
import pandas as pd

cf.set_config_file(offline=True)


from openpyxl import load_workbook


wb = load_workbook("1.xlsx")
sheets = wb.worksheets
sheet_point_list = sheets[0]
sheet_distance = sheets[1]
targetCamp = "red"
enemyCamp = "blue"


pointListAll = np.array(list(sheet_point_list.values)[1:])

pointMap = {}
for row in np.around(np.array(pointListAll[:, [0, 1, 2]], float), 2):
    pointMap[int(row[0])] = row

pointList = pointListAll[pointListAll[:, 3] == targetCamp]
pointList = pointList[:, [0, 1, 2]]
pointList = np.around(np.array(pointList, float), 2)

pointEnemyList = pointListAll[pointListAll[:, 3] == enemyCamp]
pointEnemyList = pointEnemyList[:, [0, 1, 2]]
pointEnemyList = np.around(np.array(pointEnemyList, float), 2)


df2 = pd.DataFrame(pointList, columns=["index", "X", "Y"])
df2


df2.iplot(
    kind="scatter", mode="markers", x="X", y="Y", size=5, text="index", title="red camp"
)


import matplotlib.pyplot as plt


# 全地图鸟瞰

plt.close()

plt.figure(dpi=1000, figsize=(15, 8))
plt.title(f"Map", fontsize=24)
plt.axis([70, 100, 0, 30])
plt.xlabel("X", fontsize=20)
plt.ylabel("Y", fontsize=14)
plt.scatter(pointList[:, 1], pointList[:, 2], color="r", s=0.1)
plt.scatter(pointEnemyList[:, 1], pointEnemyList[:, 2], color="b", s=0.1)
for row in pointList:
    plt.text(row[1], row[2], int(row[0]), fontsize=1)
for row in pointEnemyList:
    plt.text(row[1], row[2], int(row[0]), fontsize=1)

# plt.plot(pointList[:, 1], pointList[:, 2], color="b",linewidth=0.1)
for row in list(sheet_distance.values)[1:]:
    fromId = int(row[1])
    toId = int(row[2])
    x = [pointMap[fromId][1], pointMap[toId][1]]
    y = [pointMap[fromId][2], pointMap[toId][2]]
    plt.plot(x, y, color="g", linewidth=0.1)
plt.savefig("./img.png")
plt.show()


# 导入第一问蓝方结果
wb = load_workbook("./t1/result_blue/t1.xlsx")
sheets = wb.worksheets[0]
bluePloyXls = np.array(list(sheets.values)[0])
length = int(bluePloyXls.shape[0] / 2)
bluePloyWeaponType = bluePloyXls[:length]
bluePloyWeaponCount = bluePloyXls[length:]
bluePloy = np.vstack([bluePloyWeaponType, bluePloyWeaponCount])
# 蓝方部署策略
# bluePloy

# 处理颜色数据
import enum


class Color(enum.Enum):
    infantry = "#00ff00"
    lightTank = "#00ffff"
    mediumTank = "#4a86e8"
    heavyTank = "#0000ff"
    selfPropelledGun = "#9900ff"
    UAV = "#ff00ff"


bluePloyColor = np.array([tuple(Color)[i].value for i in bluePloyWeaponType])
bluePloyTag = np.array(
    [f"{item[0]},{item[1]}" for item in zip(bluePloyWeaponType, bluePloyWeaponCount)]
)
bluePloy


# 导入第一问红方结果
wb = load_workbook("./t1/result_red/t1.xlsx")
sheets = wb.worksheets[0]
redPloyXls = np.array(list(sheets.values)[0])
length = int(redPloyXls.shape[0] / 2)
redPloyWeaponType = redPloyXls[:length]
redPloyWeaponCount = redPloyXls[length:]
redPloy = np.vstack([redPloyWeaponType, redPloyWeaponCount])

redPloyColor = np.array([tuple(Color)[i].value for i in redPloyWeaponType])
redPloyTag = np.array(
    [f"{item[0]},{item[1]}" for item in zip(redPloyWeaponType, redPloyWeaponCount)]
)


# 蓝方id->全局id
import data.t1_1_data as data

bluePointMap = data.bluePointMap
for point in bluePointMap:
    bluePointMap[point]["id"] = point
bluePointList = tuple(bluePointMap.values())
bluePointList[:5]


# 兵力部署图
plt.close()

plt.figure(dpi=1000, figsize=(15, 8))
plt.title(f"Deploy Map", fontsize=24)
plt.axis([70, 100, 0, 30])
plt.xlabel("X", fontsize=20)
plt.ylabel("Y", fontsize=14)
plt.scatter(pointList[:, 1], pointList[:, 2], color=redPloyColor, s=redPloy[[1]] * 0.1)
plt.scatter(
    pointEnemyList[:, 1],
    pointEnemyList[:, 2],
    color=bluePloyColor,
    s=bluePloy[[1]] * 0.1,
)
for index, row in enumerate(pointList):
    plt.text(row[1], row[2], redPloyTag[index], fontsize=1)
for index, row in enumerate(pointEnemyList):
    plt.text(row[1], row[2], bluePloyTag[index], fontsize=1)

# plt.plot(pointList[:, 1], pointList[:, 2], color="b",linewidth=0.1)
for row in list(sheet_distance.values)[1:]:
    fromId = int(row[1])
    toId = int(row[2])
    x = [pointMap[fromId][1], pointMap[toId][1]]
    y = [pointMap[fromId][2], pointMap[toId][2]]
    plt.plot(x, y, color="g", linewidth=0.1)
plt.savefig("./Deploy Map.png")
plt.show()


# 蓝方指挥地

# 构建点
points = []
masterPoint = []
deputyPoint = []
commonPoint = []
for row in pointEnemyList:
    id_ = row[0]
    x = row[1]
    y = row[2]
    if 76 < x and x < 82 and 8 < y and y < 13:
        if id_ in [76]:
            # 主基地
            points.append([x, y, id_, "#e32d00", "*", "master", 500])
            masterPoint.append([x, y, id_, "#e32d00", "*", "master", 500])
        elif id_ in [113, 81, 43]:
            # 副基地
            points.append([x, y, id_, "#e39700", ",", "deputy", 100])
            deputyPoint.append([x, y, id_, "#e39700", ",", "deputy", 100])
        else:
            points.append([x, y, id_, "b", ".", "point", 50])
            commonPoint.append([x, y, id_, "b", ".", "point", 50])

plt.close()
plt.figure(dpi=500, figsize=(15, 8))
plt.title(f"Blue Leader Map", fontsize=24)
# plt.axis([70, 100, 0, 30])
plt.xlabel("X", fontsize=20)
plt.ylabel("Y", fontsize=14)
# 画点
existFlag = []

masterPoint = np.array(masterPoint)
deputyPoint = np.array(deputyPoint)
commonPoint = np.array(commonPoint)
plt.scatter(
    np.array(masterPoint[:, [0]], float),
    np.array(masterPoint[:, [1]], float),
    color='#e32d00',
    s=np.array(masterPoint[:, [6]], float),
    marker='*',
    label="master",
)
plt.scatter(
    np.array(deputyPoint[:, [0]], float),
    np.array(deputyPoint[:, [1]], float),
    color='#e39700',
    s=np.array(deputyPoint[:, [6]], float),
    marker='*',
    label="deputy",
)
plt.scatter(
    np.array(commonPoint[:, [0]], float),
    np.array(commonPoint[:, [1]], float),
    color='b',
    s=np.array(commonPoint[:, [6]], float),
    marker='.',
    label="point",
)
    
# 连线
pointId = np.array(np.mat(np.array(points)[:, [2]],dtype=float).T,int)[0].tolist()
for row in list(sheet_distance.values)[1:]:
    fromId = int(row[1])
    toId = int(row[2])
    if fromId not in pointId or toId not in pointId:
        continue
    x = [pointMap[fromId][1], pointMap[toId][1]]
    y = [pointMap[fromId][2], pointMap[toId][2]]
    plt.plot(x, y, color="g", linewidth=1)

# 标注点id
for row in points:
    if row[2] in [113, 81, 43] + [76]:
        plt.text(row[0], row[1], int(row[2]), fontsize=10)
plt.legend(loc=2)
plt.savefig("./Blue Leader Map.png")
plt.show()


# 红方指挥地

# 构建点
points = []
masterPoint = []
deputyPoint = []
commonPoint = []
for row in pointList:
    id_ = row[0]
    x = row[1]
    y = row[2]
    if 82 < x and x < 85 and 22 < y and y < 27:
        if id_ in [320]:
            # 主基地
            points.append([x, y, id_, "#e32d00", "*", "master", 500])
            masterPoint.append([x, y, id_, "#e32d00", "*", "master", 700])
        elif id_ in [174, 209, 213]:
            # 副基地
            points.append([x, y, id_, "#e39700", ",", "deputy", 100])
            deputyPoint.append([x, y, id_, "#e39700", ",", "deputy", 300])
        else:
            points.append([x, y, id_, "b", ".", "point", 50])
            commonPoint.append([x, y, id_, "b", ".", "point", 50])

plt.close()
plt.figure(dpi=500, figsize=(15, 8))
plt.title(f"Red Leader Map", fontsize=24)
# plt.axis([70, 100, 0, 30])
plt.xlabel("X", fontsize=20)
plt.ylabel("Y", fontsize=14)
# 画点

print(masterPoint)
masterPoint = np.array(masterPoint)
deputyPoint = np.array(deputyPoint)
commonPoint = np.array(commonPoint)
plt.scatter(
    np.array(masterPoint[:, [0]], float),
    np.array(masterPoint[:, [1]], float),
    color='#e32d00',
    s=np.array(masterPoint[:, [6]], float),
    marker='*',
    label="master",
)
plt.scatter(
    np.array(deputyPoint[:, [0]], float),
    np.array(deputyPoint[:, [1]], float),
    color='#e39700',
    s=np.array(deputyPoint[:, [6]], float),
    marker='*',
    label="deputy",
)
plt.scatter(
    np.array(commonPoint[:, [0]], float),
    np.array(commonPoint[:, [1]], float),
    color='b',
    s=np.array(commonPoint[:, [6]], float),
    marker='.',
    label="point",
)
    
# 连线
pointId = np.array(np.mat(np.array(points)[:, [2]],dtype=float).T,int)[0].tolist()
for row in list(sheet_distance.values)[1:]:
    fromId = int(row[1])
    toId = int(row[2])
    if fromId not in pointId or toId not in pointId:
        continue
    x = [pointMap[fromId][1], pointMap[toId][1]]
    y = [pointMap[fromId][2], pointMap[toId][2]]
    plt.plot(x, y, color="g", linewidth=1)

# 标注点id
for row in points:
    if row[2] in [174, 209, 213] + [320]:
        plt.text(row[0], row[1], int(row[2]), fontsize=10)
plt.legend(loc=2)
plt.savefig("./Red Leader Map.png")
plt.show()



