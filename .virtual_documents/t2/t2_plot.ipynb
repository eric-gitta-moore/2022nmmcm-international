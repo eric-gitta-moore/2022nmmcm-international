import numpy as np
from openpyxl import load_workbook
wb = load_workbook('./Classification results.xlsx')
classification = wb.worksheets[0]
sheetsMatrix = np.array(list(classification.values))
classMatrix = sheetsMatrix[:, 1:]


wb = load_workbook("../1.xlsx")
sheets = wb.worksheets
sheet_point_list = sheets[0]
sheet_distance = sheets[1]
pointListAll = np.array(list(sheet_point_list.values)[1:])

pointMap = {}
for row in np.around(np.array(pointListAll[:, [0, 1, 2]], float), 2):
    pointMap[int(row[0])] = row

bluePointList = pointListAll[pointListAll[:, 3] == "red"]
bluePointList = bluePointList[:, [0, 1, 2]]
bluePointList = np.around(np.array(bluePointList, float), 2)

redPointList = pointListAll[pointListAll[:, 3] == "blue"]
redPointList = redPointList[:, [0, 1, 2]]
redPointList = np.around(np.array(redPointList, float), 2)


classMatrix.T
pointListAll


import matplotlib.pyplot as plt
# 全地图鸟瞰

plt.close()

fig, ax = plt.subplots(dpi=1000, figsize=(15, 8))
# plt.figure(dpi=1000, figsize=(15, 8))
plt.title(f"Classification Map", fontsize=24)
plt.axis([70, 100, 0, 30])
plt.xlabel("X", fontsize=20)
plt.ylabel("Y", fontsize=14)
ax.scatter(redPointList[:, 1], redPointList[:, 2], color="r", s=0.1)
ax.scatter(bluePointList[:, 1], bluePointList[:, 2], color="b", s=0.1)
for row in redPointList:
    ax.text(row[1], row[2], int(row[0]), fontsize=1)
for row in bluePointList:
    ax.text(row[1], row[2], int(row[0]), fontsize=1)

# plt.plot(pointList[:, 1], pointList[:, 2], color="b",linewidth=0.1)
for row in list(sheet_distance.values)[1:]:
    fromId = int(row[1])
    toId = int(row[2])
    x = [pointMap[fromId][1], pointMap[toId][1]]
    y = [pointMap[fromId][2], pointMap[toId][2]]
    ax.plot(x, y, color="g", linewidth=0.1)

    
import alphashape
from descartes import PolygonPatch

count = 1
for item in classMatrix.T:
    item = item[item != 0]
    indexClassification = item[0]
    pointIdList = np.array(item[1:], int)
    pointList = np.around(np.array(pointListAll[pointIdList - 1][:, 1:3], float), 2)
        
    alpha_shape = alphashape.alphashape(pointList)
    # ax.scatter(*zip(*pointList))
    ax.add_patch(PolygonPatch(alpha_shape.buffer(.3), alpha=0.3))
    # plt.scatter(pointList[:, 0], pointList[:, 1])
    print(count)
    count += 1

plt.savefig("./Classification Map.png")
plt.show()


# 散点图轮廓Demo
import alphashape
from descartes import PolygonPatch

plt.close()
for item in classMatrix.T[1:]:
    item = item[item != 0]
    indexClassification = item[0]
    pointIdList = np.array(item[1:], int)
    pointList = np.around(np.array(pointListAll[pointIdList - 1][:, 1:3], float), 2)
    
    alpha_shape = alphashape.alphashape(pointList)
    fig, ax = plt.subplots()
    ax.scatter(*zip(*pointList))
    ax.add_patch(PolygonPatch(alpha_shape.buffer(.5), alpha=0.3))
    # plt.scatter(pointList[:, 0], pointList[:, 1])
    break
plt.show()



